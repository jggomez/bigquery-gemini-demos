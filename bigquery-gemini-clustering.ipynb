{
  "nbformat": 4,
  "nbformat_minor": 0,
  "metadata": {
    "colab": {
      "cell_execution_strategy": "setup",
      "provenance": [],
      "name": "gemini-exercise-data"
    },
    "kernelspec": {
      "name": "python3",
      "display_name": "Python 3"
    },
    "language_info": {
      "name": "python"
    },
    "widgets": {
      "application/vnd.jupyter.widget-state+json": {
        "1240563250044d029ac158faf76e970a": {
          "model_module": "@jupyter-widgets/controls",
          "model_name": "HBoxModel",
          "model_module_version": "1.5.0",
          "state": {
            "_dom_classes": [],
            "_model_module": "@jupyter-widgets/controls",
            "_model_module_version": "1.5.0",
            "_model_name": "HBoxModel",
            "_view_count": null,
            "_view_module": "@jupyter-widgets/controls",
            "_view_module_version": "1.5.0",
            "_view_name": "HBoxView",
            "box_style": "",
            "children": [
              "IPY_MODEL_eec039f5d33448bd9052764a045ea6ae",
              "IPY_MODEL_102ba5111d3b4e2784b00de97251d6a7",
              "IPY_MODEL_8b709aee41534cf096f7de155c147814"
            ],
            "layout": "IPY_MODEL_612d37bc547c46a3b5d9a83666719fc5"
          }
        },
        "eec039f5d33448bd9052764a045ea6ae": {
          "model_module": "@jupyter-widgets/controls",
          "model_name": "HTMLModel",
          "model_module_version": "1.5.0",
          "state": {
            "_dom_classes": [],
            "_model_module": "@jupyter-widgets/controls",
            "_model_module_version": "1.5.0",
            "_model_name": "HTMLModel",
            "_view_count": null,
            "_view_module": "@jupyter-widgets/controls",
            "_view_module_version": "1.5.0",
            "_view_name": "HTMLView",
            "description": "",
            "description_tooltip": null,
            "layout": "IPY_MODEL_d38a78d21f0b47f7ba3987db1f3ca3fc",
            "placeholder": "​",
            "style": "IPY_MODEL_091c216fdf564827a80e3c95750d68c0",
            "value": "Job ID f731a5d8-8c26-4dd3-8a2b-10d5b5643eb3 successfully executed: 100%"
          }
        },
        "102ba5111d3b4e2784b00de97251d6a7": {
          "model_module": "@jupyter-widgets/controls",
          "model_name": "FloatProgressModel",
          "model_module_version": "1.5.0",
          "state": {
            "_dom_classes": [],
            "_model_module": "@jupyter-widgets/controls",
            "_model_module_version": "1.5.0",
            "_model_name": "FloatProgressModel",
            "_view_count": null,
            "_view_module": "@jupyter-widgets/controls",
            "_view_module_version": "1.5.0",
            "_view_name": "ProgressView",
            "bar_style": "success",
            "description": "",
            "description_tooltip": null,
            "layout": "IPY_MODEL_3d1febbad167496e9680cd566a783f0a",
            "max": 1,
            "min": 0,
            "orientation": "horizontal",
            "style": "IPY_MODEL_edf3d01273e94bf5bb982b5a250f1be5",
            "value": 1
          }
        },
        "8b709aee41534cf096f7de155c147814": {
          "model_module": "@jupyter-widgets/controls",
          "model_name": "HTMLModel",
          "model_module_version": "1.5.0",
          "state": {
            "_dom_classes": [],
            "_model_module": "@jupyter-widgets/controls",
            "_model_module_version": "1.5.0",
            "_model_name": "HTMLModel",
            "_view_count": null,
            "_view_module": "@jupyter-widgets/controls",
            "_view_module_version": "1.5.0",
            "_view_name": "HTMLView",
            "description": "",
            "description_tooltip": null,
            "layout": "IPY_MODEL_81bb0e30f3ab44b487a6a3d9b269e7b0",
            "placeholder": "​",
            "style": "IPY_MODEL_5ee617d3bb66471dad203a3675667bde",
            "value": ""
          }
        },
        "612d37bc547c46a3b5d9a83666719fc5": {
          "model_module": "@jupyter-widgets/base",
          "model_name": "LayoutModel",
          "model_module_version": "1.2.0",
          "state": {
            "_model_module": "@jupyter-widgets/base",
            "_model_module_version": "1.2.0",
            "_model_name": "LayoutModel",
            "_view_count": null,
            "_view_module": "@jupyter-widgets/base",
            "_view_module_version": "1.2.0",
            "_view_name": "LayoutView",
            "align_content": null,
            "align_items": null,
            "align_self": null,
            "border": null,
            "bottom": null,
            "display": null,
            "flex": null,
            "flex_flow": null,
            "grid_area": null,
            "grid_auto_columns": null,
            "grid_auto_flow": null,
            "grid_auto_rows": null,
            "grid_column": null,
            "grid_gap": null,
            "grid_row": null,
            "grid_template_areas": null,
            "grid_template_columns": null,
            "grid_template_rows": null,
            "height": null,
            "justify_content": null,
            "justify_items": null,
            "left": null,
            "margin": null,
            "max_height": null,
            "max_width": null,
            "min_height": null,
            "min_width": null,
            "object_fit": null,
            "object_position": null,
            "order": null,
            "overflow": null,
            "overflow_x": null,
            "overflow_y": null,
            "padding": null,
            "right": null,
            "top": null,
            "visibility": null,
            "width": null
          }
        },
        "d38a78d21f0b47f7ba3987db1f3ca3fc": {
          "model_module": "@jupyter-widgets/base",
          "model_name": "LayoutModel",
          "model_module_version": "1.2.0",
          "state": {
            "_model_module": "@jupyter-widgets/base",
            "_model_module_version": "1.2.0",
            "_model_name": "LayoutModel",
            "_view_count": null,
            "_view_module": "@jupyter-widgets/base",
            "_view_module_version": "1.2.0",
            "_view_name": "LayoutView",
            "align_content": null,
            "align_items": null,
            "align_self": null,
            "border": null,
            "bottom": null,
            "display": null,
            "flex": null,
            "flex_flow": null,
            "grid_area": null,
            "grid_auto_columns": null,
            "grid_auto_flow": null,
            "grid_auto_rows": null,
            "grid_column": null,
            "grid_gap": null,
            "grid_row": null,
            "grid_template_areas": null,
            "grid_template_columns": null,
            "grid_template_rows": null,
            "height": null,
            "justify_content": null,
            "justify_items": null,
            "left": null,
            "margin": null,
            "max_height": null,
            "max_width": null,
            "min_height": null,
            "min_width": null,
            "object_fit": null,
            "object_position": null,
            "order": null,
            "overflow": null,
            "overflow_x": null,
            "overflow_y": null,
            "padding": null,
            "right": null,
            "top": null,
            "visibility": null,
            "width": null
          }
        },
        "091c216fdf564827a80e3c95750d68c0": {
          "model_module": "@jupyter-widgets/controls",
          "model_name": "DescriptionStyleModel",
          "model_module_version": "1.5.0",
          "state": {
            "_model_module": "@jupyter-widgets/controls",
            "_model_module_version": "1.5.0",
            "_model_name": "DescriptionStyleModel",
            "_view_count": null,
            "_view_module": "@jupyter-widgets/base",
            "_view_module_version": "1.2.0",
            "_view_name": "StyleView",
            "description_width": ""
          }
        },
        "3d1febbad167496e9680cd566a783f0a": {
          "model_module": "@jupyter-widgets/base",
          "model_name": "LayoutModel",
          "model_module_version": "1.2.0",
          "state": {
            "_model_module": "@jupyter-widgets/base",
            "_model_module_version": "1.2.0",
            "_model_name": "LayoutModel",
            "_view_count": null,
            "_view_module": "@jupyter-widgets/base",
            "_view_module_version": "1.2.0",
            "_view_name": "LayoutView",
            "align_content": null,
            "align_items": null,
            "align_self": null,
            "border": null,
            "bottom": null,
            "display": null,
            "flex": null,
            "flex_flow": null,
            "grid_area": null,
            "grid_auto_columns": null,
            "grid_auto_flow": null,
            "grid_auto_rows": null,
            "grid_column": null,
            "grid_gap": null,
            "grid_row": null,
            "grid_template_areas": null,
            "grid_template_columns": null,
            "grid_template_rows": null,
            "height": null,
            "justify_content": null,
            "justify_items": null,
            "left": null,
            "margin": null,
            "max_height": null,
            "max_width": null,
            "min_height": null,
            "min_width": null,
            "object_fit": null,
            "object_position": null,
            "order": null,
            "overflow": null,
            "overflow_x": null,
            "overflow_y": null,
            "padding": null,
            "right": null,
            "top": null,
            "visibility": null,
            "width": null
          }
        },
        "edf3d01273e94bf5bb982b5a250f1be5": {
          "model_module": "@jupyter-widgets/controls",
          "model_name": "ProgressStyleModel",
          "model_module_version": "1.5.0",
          "state": {
            "_model_module": "@jupyter-widgets/controls",
            "_model_module_version": "1.5.0",
            "_model_name": "ProgressStyleModel",
            "_view_count": null,
            "_view_module": "@jupyter-widgets/base",
            "_view_module_version": "1.2.0",
            "_view_name": "StyleView",
            "bar_color": null,
            "description_width": ""
          }
        },
        "81bb0e30f3ab44b487a6a3d9b269e7b0": {
          "model_module": "@jupyter-widgets/base",
          "model_name": "LayoutModel",
          "model_module_version": "1.2.0",
          "state": {
            "_model_module": "@jupyter-widgets/base",
            "_model_module_version": "1.2.0",
            "_model_name": "LayoutModel",
            "_view_count": null,
            "_view_module": "@jupyter-widgets/base",
            "_view_module_version": "1.2.0",
            "_view_name": "LayoutView",
            "align_content": null,
            "align_items": null,
            "align_self": null,
            "border": null,
            "bottom": null,
            "display": null,
            "flex": null,
            "flex_flow": null,
            "grid_area": null,
            "grid_auto_columns": null,
            "grid_auto_flow": null,
            "grid_auto_rows": null,
            "grid_column": null,
            "grid_gap": null,
            "grid_row": null,
            "grid_template_areas": null,
            "grid_template_columns": null,
            "grid_template_rows": null,
            "height": null,
            "justify_content": null,
            "justify_items": null,
            "left": null,
            "margin": null,
            "max_height": null,
            "max_width": null,
            "min_height": null,
            "min_width": null,
            "object_fit": null,
            "object_position": null,
            "order": null,
            "overflow": null,
            "overflow_x": null,
            "overflow_y": null,
            "padding": null,
            "right": null,
            "top": null,
            "visibility": null,
            "width": null
          }
        },
        "5ee617d3bb66471dad203a3675667bde": {
          "model_module": "@jupyter-widgets/controls",
          "model_name": "DescriptionStyleModel",
          "model_module_version": "1.5.0",
          "state": {
            "_model_module": "@jupyter-widgets/controls",
            "_model_module_version": "1.5.0",
            "_model_name": "DescriptionStyleModel",
            "_view_count": null,
            "_view_module": "@jupyter-widgets/base",
            "_view_module_version": "1.2.0",
            "_view_name": "StyleView",
            "description_width": ""
          }
        }
      }
    }
  },
  "cells": [
    {
      "cell_type": "markdown",
      "source": [
        "# Definir variables e inicializar Bigquery y vertexAI"
      ],
      "metadata": {
        "id": "VI0xLxmm7HBa"
      }
    },
    {
      "cell_type": "code",
      "source": [
        "from google.cloud import bigquery\n",
        "from google.cloud import aiplatform\n",
        "import bigframes.pandas as bpd\n",
        "import pandas as pd\n",
        "from vertexai.language_models._language_models import TextGenerationModel\n",
        "from vertexai.generative_models import GenerativeModel\n",
        "from bigframes.ml.cluster import KMeans\n",
        "from bigframes.ml.model_selection import train_test_split"
      ],
      "metadata": {
        "id": "7Iod1PlZA468"
      },
      "execution_count": null,
      "outputs": []
    },
    {
      "cell_type": "code",
      "source": [
        "project_id = 'devhack-3f0c2'\n",
        "dataset_name = \"ecommerce\"\n",
        "model_name = \"customer_segmentation_model\"\n",
        "table_name = \"customer_stats\"\n",
        "location = \"us-central1\"\n",
        "client = bigquery.Client(project=project_id)\n",
        "aiplatform.init(project=project_id, location=location)"
      ],
      "metadata": {
        "id": "b_AcZx7xBLSg"
      },
      "execution_count": null,
      "outputs": []
    },
    {
      "cell_type": "markdown",
      "source": [
        "### **Crear tabla de las estadisticas del cliente e importarlos del dataset publico**"
      ],
      "metadata": {
        "id": "dOpaImsuBk8B"
      }
    },
    {
      "cell_type": "code",
      "source": [
        "%%bigquery\n",
        "CREATE OR REPLACE TABLE ecommerce.customer_stats AS\n",
        "SELECT\n",
        "  user_id,\n",
        "  DATE_DIFF(CURRENT_DATE(), CAST(MAX(order_created_date) AS DATE), day) AS days_since_last_order, ---RECENCY\n",
        "  COUNT(order_id) AS count_orders, --FREQUENCY\n",
        "  AVG(sale_price) AS average_spend --MONETARY\n",
        "  FROM (\n",
        "      SELECT\n",
        "        user_id,\n",
        "        order_id,\n",
        "        sale_price,\n",
        "        created_at AS order_created_date\n",
        "        FROM `bigquery-public-data.thelook_ecommerce.order_items`\n",
        "        WHERE\n",
        "        created_at\n",
        "            BETWEEN '2022-01-01' AND '2023-01-01'\n",
        "  )\n",
        "GROUP BY user_id;"
      ],
      "metadata": {
        "colab": {
          "base_uri": "https://localhost:8080/",
          "height": 85,
          "referenced_widgets": [
            "1240563250044d029ac158faf76e970a",
            "eec039f5d33448bd9052764a045ea6ae",
            "102ba5111d3b4e2784b00de97251d6a7",
            "8b709aee41534cf096f7de155c147814",
            "612d37bc547c46a3b5d9a83666719fc5",
            "d38a78d21f0b47f7ba3987db1f3ca3fc",
            "091c216fdf564827a80e3c95750d68c0",
            "3d1febbad167496e9680cd566a783f0a",
            "edf3d01273e94bf5bb982b5a250f1be5",
            "81bb0e30f3ab44b487a6a3d9b269e7b0",
            "5ee617d3bb66471dad203a3675667bde"
          ]
        },
        "id": "09qFJhBqBtgJ",
        "outputId": "85f8af8a-2e7c-480f-ac13-3782ec80d527"
      },
      "execution_count": null,
      "outputs": [
        {
          "output_type": "display_data",
          "data": {
            "text/plain": [
              "Query is running:   0%|          |"
            ],
            "application/vnd.jupyter.widget-view+json": {
              "version_major": 2,
              "version_minor": 0,
              "model_id": "1240563250044d029ac158faf76e970a"
            }
          },
          "metadata": {}
        },
        {
          "output_type": "execute_result",
          "data": {
            "text/plain": [
              "Empty DataFrame\n",
              "Columns: []\n",
              "Index: []"
            ],
            "text/html": [
              "\n",
              "  <div id=\"df-e52c60aa-19e6-41ef-ad47-f2ae929416d5\" class=\"colab-df-container\">\n",
              "    <div>\n",
              "<style scoped>\n",
              "    .dataframe tbody tr th:only-of-type {\n",
              "        vertical-align: middle;\n",
              "    }\n",
              "\n",
              "    .dataframe tbody tr th {\n",
              "        vertical-align: top;\n",
              "    }\n",
              "\n",
              "    .dataframe thead th {\n",
              "        text-align: right;\n",
              "    }\n",
              "</style>\n",
              "<table border=\"1\" class=\"dataframe\">\n",
              "  <thead>\n",
              "    <tr style=\"text-align: right;\">\n",
              "      <th></th>\n",
              "    </tr>\n",
              "  </thead>\n",
              "  <tbody>\n",
              "  </tbody>\n",
              "</table>\n",
              "</div>\n",
              "    <div class=\"colab-df-buttons\">\n",
              "\n",
              "  <div class=\"colab-df-container\">\n",
              "    <button class=\"colab-df-convert\" onclick=\"convertToInteractive('df-e52c60aa-19e6-41ef-ad47-f2ae929416d5')\"\n",
              "            title=\"Convert this dataframe to an interactive table.\"\n",
              "            style=\"display:none;\">\n",
              "\n",
              "  <svg xmlns=\"http://www.w3.org/2000/svg\" height=\"24px\" viewBox=\"0 -960 960 960\">\n",
              "    <path d=\"M120-120v-720h720v720H120Zm60-500h600v-160H180v160Zm220 220h160v-160H400v160Zm0 220h160v-160H400v160ZM180-400h160v-160H180v160Zm440 0h160v-160H620v160ZM180-180h160v-160H180v160Zm440 0h160v-160H620v160Z\"/>\n",
              "  </svg>\n",
              "    </button>\n",
              "\n",
              "  <style>\n",
              "    .colab-df-container {\n",
              "      display:flex;\n",
              "      gap: 12px;\n",
              "    }\n",
              "\n",
              "    .colab-df-convert {\n",
              "      background-color: #E8F0FE;\n",
              "      border: none;\n",
              "      border-radius: 50%;\n",
              "      cursor: pointer;\n",
              "      display: none;\n",
              "      fill: #1967D2;\n",
              "      height: 32px;\n",
              "      padding: 0 0 0 0;\n",
              "      width: 32px;\n",
              "    }\n",
              "\n",
              "    .colab-df-convert:hover {\n",
              "      background-color: #E2EBFA;\n",
              "      box-shadow: 0px 1px 2px rgba(60, 64, 67, 0.3), 0px 1px 3px 1px rgba(60, 64, 67, 0.15);\n",
              "      fill: #174EA6;\n",
              "    }\n",
              "\n",
              "    .colab-df-buttons div {\n",
              "      margin-bottom: 4px;\n",
              "    }\n",
              "\n",
              "    [theme=dark] .colab-df-convert {\n",
              "      background-color: #3B4455;\n",
              "      fill: #D2E3FC;\n",
              "    }\n",
              "\n",
              "    [theme=dark] .colab-df-convert:hover {\n",
              "      background-color: #434B5C;\n",
              "      box-shadow: 0px 1px 3px 1px rgba(0, 0, 0, 0.15);\n",
              "      filter: drop-shadow(0px 1px 2px rgba(0, 0, 0, 0.3));\n",
              "      fill: #FFFFFF;\n",
              "    }\n",
              "  </style>\n",
              "\n",
              "    <script>\n",
              "      const buttonEl =\n",
              "        document.querySelector('#df-e52c60aa-19e6-41ef-ad47-f2ae929416d5 button.colab-df-convert');\n",
              "      buttonEl.style.display =\n",
              "        google.colab.kernel.accessAllowed ? 'block' : 'none';\n",
              "\n",
              "      async function convertToInteractive(key) {\n",
              "        const element = document.querySelector('#df-e52c60aa-19e6-41ef-ad47-f2ae929416d5');\n",
              "        const dataTable =\n",
              "          await google.colab.kernel.invokeFunction('convertToInteractive',\n",
              "                                                    [key], {});\n",
              "        if (!dataTable) return;\n",
              "\n",
              "        const docLinkHtml = 'Like what you see? Visit the ' +\n",
              "          '<a target=\"_blank\" href=https://colab.research.google.com/notebooks/data_table.ipynb>data table notebook</a>'\n",
              "          + ' to learn more about interactive tables.';\n",
              "        element.innerHTML = '';\n",
              "        dataTable['output_type'] = 'display_data';\n",
              "        await google.colab.output.renderOutput(dataTable, element);\n",
              "        const docLink = document.createElement('div');\n",
              "        docLink.innerHTML = docLinkHtml;\n",
              "        element.appendChild(docLink);\n",
              "      }\n",
              "    </script>\n",
              "  </div>\n",
              "\n",
              "\n",
              "    </div>\n",
              "  </div>\n"
            ],
            "application/vnd.google.colaboratory.intrinsic+json": {
              "type": "dataframe",
              "summary": "{\n  \"name\": \"get_ipython()\",\n  \"rows\": 0,\n  \"fields\": []\n}"
            }
          },
          "metadata": {},
          "execution_count": 3
        }
      ]
    },
    {
      "cell_type": "markdown",
      "source": [
        "### **Crear BigFrame**"
      ],
      "metadata": {
        "id": "Yc8j0kPNC5US"
      }
    },
    {
      "cell_type": "code",
      "source": [
        "bqdf = bpd.read_gbq(f\"{project_id}.{dataset_name}.{table_name}\")\n",
        "bqdf.head()\n",
        "bqdf.tail()"
      ],
      "metadata": {
        "colab": {
          "base_uri": "https://localhost:8080/",
          "height": 325
        },
        "id": "JTny-vkAC8AK",
        "outputId": "c17166bd-72be-486a-a266-59b80d4de671"
      },
      "execution_count": null,
      "outputs": [
        {
          "output_type": "stream",
          "name": "stderr",
          "text": [
            "/usr/local/lib/python3.10/dist-packages/IPython/core/interactiveshell.py:3553: UserWarning: Reading cached table from 2025-03-25 02:07:05.355644+00:00 to avoid incompatibilies with previous reads of this table. To read the latest version, set `use_cache=False` or close the current session with Session.close() or bigframes.pandas.close_session().\n",
            "  exec(code_obj, self.user_global_ns, self.user_ns)\n"
          ]
        },
        {
          "output_type": "display_data",
          "data": {
            "text/plain": [
              "<IPython.core.display.HTML object>"
            ],
            "text/html": [
              "Query job 90591483-aa2f-417b-b9d1-a9a0e2727e18 is DONE. 462.3 kB processed. <a target=\"_blank\" href=\"https://console.cloud.google.com/bigquery?project=devhack-3f0c2&j=bq:US:90591483-aa2f-417b-b9d1-a9a0e2727e18&page=queryresults\">Open Job</a>"
            ]
          },
          "metadata": {}
        },
        {
          "output_type": "execute_result",
          "data": {
            "text/plain": [
              "       user_id  days_since_last_order  count_orders  average_spend\n",
              "14441     8172                    973             1          18.99\n",
              "14442    68449                    873             1          14.99\n",
              "14443    12171                    963             1           14.0\n",
              "14444     2801                    859             3      33.663334\n",
              "14445    73175                    853             1          109.0\n",
              "\n",
              "[5 rows x 4 columns]"
            ],
            "text/html": [
              "<div>\n",
              "<style scoped>\n",
              "    .dataframe tbody tr th:only-of-type {\n",
              "        vertical-align: middle;\n",
              "    }\n",
              "\n",
              "    .dataframe tbody tr th {\n",
              "        vertical-align: top;\n",
              "    }\n",
              "\n",
              "    .dataframe thead th {\n",
              "        text-align: right;\n",
              "    }\n",
              "</style>\n",
              "<table border=\"1\" class=\"dataframe\">\n",
              "  <thead>\n",
              "    <tr style=\"text-align: right;\">\n",
              "      <th></th>\n",
              "      <th>user_id</th>\n",
              "      <th>days_since_last_order</th>\n",
              "      <th>count_orders</th>\n",
              "      <th>average_spend</th>\n",
              "    </tr>\n",
              "  </thead>\n",
              "  <tbody>\n",
              "    <tr>\n",
              "      <th>14441</th>\n",
              "      <td>8172</td>\n",
              "      <td>973</td>\n",
              "      <td>1</td>\n",
              "      <td>18.99</td>\n",
              "    </tr>\n",
              "    <tr>\n",
              "      <th>14442</th>\n",
              "      <td>68449</td>\n",
              "      <td>873</td>\n",
              "      <td>1</td>\n",
              "      <td>14.99</td>\n",
              "    </tr>\n",
              "    <tr>\n",
              "      <th>14443</th>\n",
              "      <td>12171</td>\n",
              "      <td>963</td>\n",
              "      <td>1</td>\n",
              "      <td>14.0</td>\n",
              "    </tr>\n",
              "    <tr>\n",
              "      <th>14444</th>\n",
              "      <td>2801</td>\n",
              "      <td>859</td>\n",
              "      <td>3</td>\n",
              "      <td>33.663334</td>\n",
              "    </tr>\n",
              "    <tr>\n",
              "      <th>14445</th>\n",
              "      <td>73175</td>\n",
              "      <td>853</td>\n",
              "      <td>1</td>\n",
              "      <td>109.0</td>\n",
              "    </tr>\n",
              "  </tbody>\n",
              "</table>\n",
              "<p>5 rows × 4 columns</p>\n",
              "</div>[5 rows x 4 columns in total]"
            ]
          },
          "metadata": {},
          "execution_count": 5
        }
      ]
    },
    {
      "cell_type": "code",
      "source": [
        "bqdf[bqdf[\"user_id\"] == 8172]"
      ],
      "metadata": {
        "colab": {
          "base_uri": "https://localhost:8080/",
          "height": 162
        },
        "id": "NyQmRLMyDjWE",
        "outputId": "4be0099b-2de6-40a9-d626-628173ab3705"
      },
      "execution_count": null,
      "outputs": [
        {
          "output_type": "display_data",
          "data": {
            "text/plain": [
              "<IPython.core.display.HTML object>"
            ],
            "text/html": [
              "Query job f86ad434-d97d-4152-9536-356ba2de9944 is DONE. 462.3 kB processed. <a target=\"_blank\" href=\"https://console.cloud.google.com/bigquery?project=devhack-3f0c2&j=bq:US:f86ad434-d97d-4152-9536-356ba2de9944&page=queryresults\">Open Job</a>"
            ]
          },
          "metadata": {}
        },
        {
          "output_type": "display_data",
          "data": {
            "text/plain": [
              "<IPython.core.display.HTML object>"
            ],
            "text/html": [
              "Query job a2976604-9bb0-4003-9133-fa3900551c6d is DONE. 48 Bytes processed. <a target=\"_blank\" href=\"https://console.cloud.google.com/bigquery?project=devhack-3f0c2&j=bq:US:a2976604-9bb0-4003-9133-fa3900551c6d&page=queryresults\">Open Job</a>"
            ]
          },
          "metadata": {}
        },
        {
          "output_type": "execute_result",
          "data": {
            "text/plain": [
              "       user_id  days_since_last_order  count_orders  average_spend\n",
              "14441     8172                    973             1          18.99\n",
              "\n",
              "[1 rows x 4 columns]"
            ],
            "text/html": [
              "<div>\n",
              "<style scoped>\n",
              "    .dataframe tbody tr th:only-of-type {\n",
              "        vertical-align: middle;\n",
              "    }\n",
              "\n",
              "    .dataframe tbody tr th {\n",
              "        vertical-align: top;\n",
              "    }\n",
              "\n",
              "    .dataframe thead th {\n",
              "        text-align: right;\n",
              "    }\n",
              "</style>\n",
              "<table border=\"1\" class=\"dataframe\">\n",
              "  <thead>\n",
              "    <tr style=\"text-align: right;\">\n",
              "      <th></th>\n",
              "      <th>user_id</th>\n",
              "      <th>days_since_last_order</th>\n",
              "      <th>count_orders</th>\n",
              "      <th>average_spend</th>\n",
              "    </tr>\n",
              "  </thead>\n",
              "  <tbody>\n",
              "    <tr>\n",
              "      <th>14441</th>\n",
              "      <td>8172</td>\n",
              "      <td>973</td>\n",
              "      <td>1</td>\n",
              "      <td>18.99</td>\n",
              "    </tr>\n",
              "  </tbody>\n",
              "</table>\n",
              "<p>1 rows × 4 columns</p>\n",
              "</div>[1 rows x 4 columns in total]"
            ]
          },
          "metadata": {},
          "execution_count": 6
        }
      ]
    },
    {
      "cell_type": "markdown",
      "source": [
        "### **K-Means Clustering Model**"
      ],
      "metadata": {
        "id": "yqcAaUHPD0kX"
      }
    },
    {
      "cell_type": "markdown",
      "source": [
        "1. Split df (using random state and test size 0.2) into test and training data for a K-means clustering algorithm store these as df_test and df_train. 2. Create a K-means cluster model using bigframes.ml.cluster KMeans with 5 clusters. 3. Save the model using the to_gbq method where the model name is project_id.dataset_name.model_name."
      ],
      "metadata": {
        "id": "m5yFd0TXEAUY"
      }
    },
    {
      "cell_type": "code",
      "source": [
        "# prompt: 1. Split df (using random state and test size 0.2) into test and training data for a K-means clustering algorithm store these as df_test and df_train. 2. Create a K-means cluster model using bigframes.ml.cluster KMeans with 5 clusters. 3. Save the model using the to_gbq method where the model name is project_id.dataset_name.model_name.\n",
        "\n",
        "df_train, df_test = train_test_split(bqdf, test_size=0.2, random_state=42)\n",
        "kmeans = KMeans(n_clusters=5)\n",
        "kmeans.fit(df_train)\n",
        "kmeans.to_gbq(model_name=f\"{project_id}.{dataset_name}.{model_name}\")"
      ],
      "metadata": {
        "colab": {
          "base_uri": "https://localhost:8080/",
          "height": 86
        },
        "id": "w75gPapID35J",
        "outputId": "8bdaa622-7493-4e1f-b6dd-55133f9ff59d"
      },
      "execution_count": null,
      "outputs": [
        {
          "output_type": "display_data",
          "data": {
            "text/plain": [
              "<IPython.core.display.HTML object>"
            ],
            "text/html": [
              "Query job 5c3ada12-db0d-4f85-a311-4162740693bd is DONE. 462.3 kB processed. <a target=\"_blank\" href=\"https://console.cloud.google.com/bigquery?project=devhack-3f0c2&j=bq:US:5c3ada12-db0d-4f85-a311-4162740693bd&page=queryresults\">Open Job</a>"
            ]
          },
          "metadata": {}
        },
        {
          "output_type": "display_data",
          "data": {
            "text/plain": [
              "<IPython.core.display.HTML object>"
            ],
            "text/html": [
              "Query job ca484638-9445-4073-a3cd-4002340daa51 is DONE. 369.8 kB processed. <a target=\"_blank\" href=\"https://console.cloud.google.com/bigquery?project=devhack-3f0c2&j=bq:US:ca484638-9445-4073-a3cd-4002340daa51&page=queryresults\">Open Job</a>"
            ]
          },
          "metadata": {}
        },
        {
          "output_type": "display_data",
          "data": {
            "text/plain": [
              "<IPython.core.display.HTML object>"
            ],
            "text/html": [
              "Copy job bc7b87bd-1ff5-448e-a331-3bef561597aa is DONE. <a target=\"_blank\" href=\"https://console.cloud.google.com/bigquery?project=devhack-3f0c2&j=bq:US:bc7b87bd-1ff5-448e-a331-3bef561597aa&page=queryresults\">Open Job</a>"
            ]
          },
          "metadata": {}
        },
        {
          "output_type": "execute_result",
          "data": {
            "text/plain": [
              "KMeans(distance_type='EUCLIDEAN', init='KMEANS_PLUS_PLUS', n_clusters=5)"
            ]
          },
          "metadata": {},
          "execution_count": 7
        }
      ]
    },
    {
      "cell_type": "code",
      "source": [
        "predictions_df = kmeans.predict(df_test)\n",
        "predictions_df.head(10)"
      ],
      "metadata": {
        "colab": {
          "base_uri": "https://localhost:8080/",
          "height": 444
        },
        "id": "Nc6HPxvSEyEH",
        "outputId": "67d08914-1877-4c81-99d6-3f9efa00eaa9"
      },
      "execution_count": null,
      "outputs": [
        {
          "output_type": "display_data",
          "data": {
            "text/plain": [
              "<IPython.core.display.HTML object>"
            ],
            "text/html": [
              "Query job 144d366f-ec28-4d91-9ae0-bc2ede6ac824 is DONE. 462.6 kB processed. <a target=\"_blank\" href=\"https://console.cloud.google.com/bigquery?project=devhack-3f0c2&j=bq:US:144d366f-ec28-4d91-9ae0-bc2ede6ac824&page=queryresults\">Open Job</a>"
            ]
          },
          "metadata": {}
        },
        {
          "output_type": "display_data",
          "data": {
            "text/plain": [
              "<IPython.core.display.HTML object>"
            ],
            "text/html": [
              "Query job 5a280684-86c0-4105-ae7f-e15585f025f2 is DONE. 369.8 kB processed. <a target=\"_blank\" href=\"https://console.cloud.google.com/bigquery?project=devhack-3f0c2&j=bq:US:5a280684-86c0-4105-ae7f-e15585f025f2&page=queryresults\">Open Job</a>"
            ]
          },
          "metadata": {}
        },
        {
          "output_type": "execute_result",
          "data": {
            "text/plain": [
              "    CENTROID_ID                         NEAREST_CENTROIDS_DISTANCE  user_id  \\\n",
              "3             5  [{'CENTROID_ID': 5, 'DISTANCE': 0.778755653755...    10733   \n",
              "10            5  [{'CENTROID_ID': 5, 'DISTANCE': 1.074169700103...    43792   \n",
              "23            5  [{'CENTROID_ID': 5, 'DISTANCE': 0.376697393298...    20543   \n",
              "24            5  [{'CENTROID_ID': 5, 'DISTANCE': 0.912131822657...    29269   \n",
              "27            3  [{'CENTROID_ID': 3, 'DISTANCE': 1.588005840884...    45833   \n",
              "30            5  [{'CENTROID_ID': 5, 'DISTANCE': 1.105746948170...     5156   \n",
              "31            1  [{'CENTROID_ID': 1, 'DISTANCE': 1.499419228690...    68451   \n",
              "50            5  [{'CENTROID_ID': 5, 'DISTANCE': 0.846652700427...     6654   \n",
              "56            5  [{'CENTROID_ID': 5, 'DISTANCE': 1.849361165612...    50652   \n",
              "57            3  [{'CENTROID_ID': 3, 'DISTANCE': 0.364678206749...    50293   \n",
              "\n",
              "    days_since_last_order  count_orders  average_spend  \n",
              "3                     936             1      52.990002  \n",
              "10                    920             1           25.0  \n",
              "23                    971             1      46.990002  \n",
              "24                   1000             2           16.0  \n",
              "27                   1095             3      86.463333  \n",
              "30                   1053             1          13.71  \n",
              "31                    859             2      89.995003  \n",
              "50                    960             1           69.0  \n",
              "56                   1156             1           59.5  \n",
              "57                    936             4      62.120001  \n",
              "\n",
              "[10 rows x 6 columns]"
            ],
            "text/html": [
              "<div>\n",
              "<style scoped>\n",
              "    .dataframe tbody tr th:only-of-type {\n",
              "        vertical-align: middle;\n",
              "    }\n",
              "\n",
              "    .dataframe tbody tr th {\n",
              "        vertical-align: top;\n",
              "    }\n",
              "\n",
              "    .dataframe thead th {\n",
              "        text-align: right;\n",
              "    }\n",
              "</style>\n",
              "<table border=\"1\" class=\"dataframe\">\n",
              "  <thead>\n",
              "    <tr style=\"text-align: right;\">\n",
              "      <th></th>\n",
              "      <th>CENTROID_ID</th>\n",
              "      <th>NEAREST_CENTROIDS_DISTANCE</th>\n",
              "      <th>user_id</th>\n",
              "      <th>days_since_last_order</th>\n",
              "      <th>count_orders</th>\n",
              "      <th>average_spend</th>\n",
              "    </tr>\n",
              "  </thead>\n",
              "  <tbody>\n",
              "    <tr>\n",
              "      <th>3</th>\n",
              "      <td>5</td>\n",
              "      <td>[{'CENTROID_ID': 5, 'DISTANCE': 0.778755653755...</td>\n",
              "      <td>10733</td>\n",
              "      <td>936</td>\n",
              "      <td>1</td>\n",
              "      <td>52.990002</td>\n",
              "    </tr>\n",
              "    <tr>\n",
              "      <th>10</th>\n",
              "      <td>5</td>\n",
              "      <td>[{'CENTROID_ID': 5, 'DISTANCE': 1.074169700103...</td>\n",
              "      <td>43792</td>\n",
              "      <td>920</td>\n",
              "      <td>1</td>\n",
              "      <td>25.0</td>\n",
              "    </tr>\n",
              "    <tr>\n",
              "      <th>23</th>\n",
              "      <td>5</td>\n",
              "      <td>[{'CENTROID_ID': 5, 'DISTANCE': 0.376697393298...</td>\n",
              "      <td>20543</td>\n",
              "      <td>971</td>\n",
              "      <td>1</td>\n",
              "      <td>46.990002</td>\n",
              "    </tr>\n",
              "    <tr>\n",
              "      <th>24</th>\n",
              "      <td>5</td>\n",
              "      <td>[{'CENTROID_ID': 5, 'DISTANCE': 0.912131822657...</td>\n",
              "      <td>29269</td>\n",
              "      <td>1000</td>\n",
              "      <td>2</td>\n",
              "      <td>16.0</td>\n",
              "    </tr>\n",
              "    <tr>\n",
              "      <th>27</th>\n",
              "      <td>3</td>\n",
              "      <td>[{'CENTROID_ID': 3, 'DISTANCE': 1.588005840884...</td>\n",
              "      <td>45833</td>\n",
              "      <td>1095</td>\n",
              "      <td>3</td>\n",
              "      <td>86.463333</td>\n",
              "    </tr>\n",
              "    <tr>\n",
              "      <th>30</th>\n",
              "      <td>5</td>\n",
              "      <td>[{'CENTROID_ID': 5, 'DISTANCE': 1.105746948170...</td>\n",
              "      <td>5156</td>\n",
              "      <td>1053</td>\n",
              "      <td>1</td>\n",
              "      <td>13.71</td>\n",
              "    </tr>\n",
              "    <tr>\n",
              "      <th>31</th>\n",
              "      <td>1</td>\n",
              "      <td>[{'CENTROID_ID': 1, 'DISTANCE': 1.499419228690...</td>\n",
              "      <td>68451</td>\n",
              "      <td>859</td>\n",
              "      <td>2</td>\n",
              "      <td>89.995003</td>\n",
              "    </tr>\n",
              "    <tr>\n",
              "      <th>50</th>\n",
              "      <td>5</td>\n",
              "      <td>[{'CENTROID_ID': 5, 'DISTANCE': 0.846652700427...</td>\n",
              "      <td>6654</td>\n",
              "      <td>960</td>\n",
              "      <td>1</td>\n",
              "      <td>69.0</td>\n",
              "    </tr>\n",
              "    <tr>\n",
              "      <th>56</th>\n",
              "      <td>5</td>\n",
              "      <td>[{'CENTROID_ID': 5, 'DISTANCE': 1.849361165612...</td>\n",
              "      <td>50652</td>\n",
              "      <td>1156</td>\n",
              "      <td>1</td>\n",
              "      <td>59.5</td>\n",
              "    </tr>\n",
              "    <tr>\n",
              "      <th>57</th>\n",
              "      <td>3</td>\n",
              "      <td>[{'CENTROID_ID': 3, 'DISTANCE': 0.364678206749...</td>\n",
              "      <td>50293</td>\n",
              "      <td>936</td>\n",
              "      <td>4</td>\n",
              "      <td>62.120001</td>\n",
              "    </tr>\n",
              "  </tbody>\n",
              "</table>\n",
              "<p>10 rows × 6 columns</p>\n",
              "</div>[10 rows x 6 columns in total]"
            ]
          },
          "metadata": {},
          "execution_count": 8
        }
      ]
    },
    {
      "cell_type": "markdown",
      "source": [
        "### **Visualizar el k-means Clustering**"
      ],
      "metadata": {
        "id": "vSY3nn-ZFYKv"
      }
    },
    {
      "cell_type": "code",
      "source": [
        "# prompt: visualizar el clustering creado\n",
        "\n",
        "import matplotlib.pyplot as plt\n",
        "\n",
        "# Assuming 'predictions_df' contains the cluster labels and features for plotting\n",
        "# Replace 'feature1' and 'feature2' with the actual column names from your DataFrame\n",
        "\n",
        "plt.figure(figsize=(10, 6))\n",
        "plt.scatter(predictions_df['days_since_last_order'], predictions_df['average_spend'], c=predictions_df['CENTROID_ID'], cmap='viridis')\n",
        "plt.xlabel('days_since_last_order')\n",
        "plt.ylabel('average_spend')\n",
        "plt.title('K-means Clustering Visualization')\n",
        "plt.colorbar(label=\"Cluster ID\")\n",
        "plt.show()"
      ],
      "metadata": {
        "colab": {
          "base_uri": "https://localhost:8080/",
          "height": 703
        },
        "id": "-mfqSzPKFmw_",
        "outputId": "e23346d8-51ef-43f6-e8e6-a47e6accc431"
      },
      "execution_count": null,
      "outputs": [
        {
          "output_type": "display_data",
          "data": {
            "text/plain": [
              "<IPython.core.display.HTML object>"
            ],
            "text/html": [
              "Query job 5ea477c0-05be-4717-9d54-c2095ac28199 is DONE. 0 Bytes processed. <a target=\"_blank\" href=\"https://console.cloud.google.com/bigquery?project=devhack-3f0c2&j=bq:US:5ea477c0-05be-4717-9d54-c2095ac28199&page=queryresults\">Open Job</a>"
            ]
          },
          "metadata": {}
        },
        {
          "output_type": "display_data",
          "data": {
            "text/plain": [
              "<IPython.core.display.HTML object>"
            ],
            "text/html": [
              "Query job c7b0bda7-4b28-4f75-83fb-f50d84da033f is DONE. 0 Bytes processed. <a target=\"_blank\" href=\"https://console.cloud.google.com/bigquery?project=devhack-3f0c2&j=bq:US:c7b0bda7-4b28-4f75-83fb-f50d84da033f&page=queryresults\">Open Job</a>"
            ]
          },
          "metadata": {}
        },
        {
          "output_type": "display_data",
          "data": {
            "text/plain": [
              "<IPython.core.display.HTML object>"
            ],
            "text/html": [
              "Query job be3c2ec1-62b5-4258-a8e2-2246812326ee is DONE. 46.2 kB processed. <a target=\"_blank\" href=\"https://console.cloud.google.com/bigquery?project=devhack-3f0c2&j=bq:US:be3c2ec1-62b5-4258-a8e2-2246812326ee&page=queryresults\">Open Job</a>"
            ]
          },
          "metadata": {}
        },
        {
          "output_type": "display_data",
          "data": {
            "text/plain": [
              "<IPython.core.display.HTML object>"
            ],
            "text/html": [
              "Query job 164451fc-4f67-4bcb-ae8c-ce3adf5182ff is DONE. 46.2 kB processed. <a target=\"_blank\" href=\"https://console.cloud.google.com/bigquery?project=devhack-3f0c2&j=bq:US:164451fc-4f67-4bcb-ae8c-ce3adf5182ff&page=queryresults\">Open Job</a>"
            ]
          },
          "metadata": {}
        },
        {
          "output_type": "display_data",
          "data": {
            "text/plain": [
              "<IPython.core.display.HTML object>"
            ],
            "text/html": [
              "Query job 23636b0c-eb50-4ecf-9bc2-4669f50b674c is DONE. 0 Bytes processed. <a target=\"_blank\" href=\"https://console.cloud.google.com/bigquery?project=devhack-3f0c2&j=bq:US:23636b0c-eb50-4ecf-9bc2-4669f50b674c&page=queryresults\">Open Job</a>"
            ]
          },
          "metadata": {}
        },
        {
          "output_type": "display_data",
          "data": {
            "text/plain": [
              "<IPython.core.display.HTML object>"
            ],
            "text/html": [
              "Query job 7d030323-b8cd-4b18-be44-bb9bb7403033 is DONE. 0 Bytes processed. <a target=\"_blank\" href=\"https://console.cloud.google.com/bigquery?project=devhack-3f0c2&j=bq:US:7d030323-b8cd-4b18-be44-bb9bb7403033&page=queryresults\">Open Job</a>"
            ]
          },
          "metadata": {}
        },
        {
          "output_type": "display_data",
          "data": {
            "text/plain": [
              "<IPython.core.display.HTML object>"
            ],
            "text/html": [
              "Query job 8e0e31a1-349f-4f17-ac48-5255671326b7 is DONE. 46.2 kB processed. <a target=\"_blank\" href=\"https://console.cloud.google.com/bigquery?project=devhack-3f0c2&j=bq:US:8e0e31a1-349f-4f17-ac48-5255671326b7&page=queryresults\">Open Job</a>"
            ]
          },
          "metadata": {}
        },
        {
          "output_type": "display_data",
          "data": {
            "text/plain": [
              "<IPython.core.display.HTML object>"
            ],
            "text/html": [
              "Query job 32845a98-4333-4b59-949c-f867e5fa2830 is DONE. 0 Bytes processed. <a target=\"_blank\" href=\"https://console.cloud.google.com/bigquery?project=devhack-3f0c2&j=bq:US:32845a98-4333-4b59-949c-f867e5fa2830&page=queryresults\">Open Job</a>"
            ]
          },
          "metadata": {}
        },
        {
          "output_type": "display_data",
          "data": {
            "text/plain": [
              "<Figure size 1000x600 with 2 Axes>"
            ],
            "image/png": "[encoded data removed]"
          },
          "metadata": {}
        }
      ]
    },
    {
      "cell_type": "markdown",
      "source": [
        "### **Resumen por cada cluster**"
      ],
      "metadata": {
        "id": "KiLt7qEaHuY0"
      }
    },
    {
      "cell_type": "code",
      "source": [
        "query = \"\"\"\n",
        "SELECT\n",
        " CONCAT('cluster ', CAST(centroid_id as STRING)) as centroid,\n",
        " average_spend,\n",
        " count_orders,\n",
        " days_since_last_order\n",
        "FROM (\n",
        " SELECT centroid_id, feature, ROUND(numerical_value, 2) as value\n",
        " FROM ML.CENTROIDS(MODEL `{0}.{1}`)\n",
        ")\n",
        "PIVOT (\n",
        " SUM(value)\n",
        " FOR feature IN ('average_spend',  'count_orders', 'days_since_last_order')\n",
        ")\n",
        "ORDER BY centroid_id\n",
        "\"\"\".format(dataset_name, model_name)\n",
        "\n",
        "df_centroid = client.query(query).to_dataframe()\n",
        "df_centroid.head()"
      ],
      "metadata": {
        "colab": {
          "base_uri": "https://localhost:8080/",
          "height": 206
        },
        "id": "17HnBE8xHx8s",
        "outputId": "4944fc87-6e41-4dac-8d06-623c22b3c59e"
      },
      "execution_count": null,
      "outputs": [
        {
          "output_type": "execute_result",
          "data": {
            "text/plain": [
              "    centroid  average_spend  count_orders  days_since_last_order\n",
              "0  cluster 1          45.40          1.28                 966.27\n",
              "1  cluster 2         618.41          1.22                 958.85\n",
              "2  cluster 3          59.01          3.69                 955.16\n",
              "3  cluster 4         184.46          1.24                 981.14\n",
              "4  cluster 5          46.66          1.29                 991.79"
            ],
            "text/html": [
              "\n",
              "  <div id=\"df-4e5a7595-f2b3-46cf-9926-8b984717473c\" class=\"colab-df-container\">\n",
              "    <div>\n",
              "<style scoped>\n",
              "    .dataframe tbody tr th:only-of-type {\n",
              "        vertical-align: middle;\n",
              "    }\n",
              "\n",
              "    .dataframe tbody tr th {\n",
              "        vertical-align: top;\n",
              "    }\n",
              "\n",
              "    .dataframe thead th {\n",
              "        text-align: right;\n",
              "    }\n",
              "</style>\n",
              "<table border=\"1\" class=\"dataframe\">\n",
              "  <thead>\n",
              "    <tr style=\"text-align: right;\">\n",
              "      <th></th>\n",
              "      <th>centroid</th>\n",
              "      <th>average_spend</th>\n",
              "      <th>count_orders</th>\n",
              "      <th>days_since_last_order</th>\n",
              "    </tr>\n",
              "  </thead>\n",
              "  <tbody>\n",
              "    <tr>\n",
              "      <th>0</th>\n",
              "      <td>cluster 1</td>\n",
              "      <td>45.40</td>\n",
              "      <td>1.28</td>\n",
              "      <td>966.27</td>\n",
              "    </tr>\n",
              "    <tr>\n",
              "      <th>1</th>\n",
              "      <td>cluster 2</td>\n",
              "      <td>618.41</td>\n",
              "      <td>1.22</td>\n",
              "      <td>958.85</td>\n",
              "    </tr>\n",
              "    <tr>\n",
              "      <th>2</th>\n",
              "      <td>cluster 3</td>\n",
              "      <td>59.01</td>\n",
              "      <td>3.69</td>\n",
              "      <td>955.16</td>\n",
              "    </tr>\n",
              "    <tr>\n",
              "      <th>3</th>\n",
              "      <td>cluster 4</td>\n",
              "      <td>184.46</td>\n",
              "      <td>1.24</td>\n",
              "      <td>981.14</td>\n",
              "    </tr>\n",
              "    <tr>\n",
              "      <th>4</th>\n",
              "      <td>cluster 5</td>\n",
              "      <td>46.66</td>\n",
              "      <td>1.29</td>\n",
              "      <td>991.79</td>\n",
              "    </tr>\n",
              "  </tbody>\n",
              "</table>\n",
              "</div>\n",
              "    <div class=\"colab-df-buttons\">\n",
              "\n",
              "  <div class=\"colab-df-container\">\n",
              "    <button class=\"colab-df-convert\" onclick=\"convertToInteractive('df-4e5a7595-f2b3-46cf-9926-8b984717473c')\"\n",
              "            title=\"Convert this dataframe to an interactive table.\"\n",
              "            style=\"display:none;\">\n",
              "\n",
              "  <svg xmlns=\"http://www.w3.org/2000/svg\" height=\"24px\" viewBox=\"0 -960 960 960\">\n",
              "    <path d=\"M120-120v-720h720v720H120Zm60-500h600v-160H180v160Zm220 220h160v-160H400v160Zm0 220h160v-160H400v160ZM180-400h160v-160H180v160Zm440 0h160v-160H620v160ZM180-180h160v-160H180v160Zm440 0h160v-160H620v160Z\"/>\n",
              "  </svg>\n",
              "    </button>\n",
              "\n",
              "  <style>\n",
              "    .colab-df-container {\n",
              "      display:flex;\n",
              "      gap: 12px;\n",
              "    }\n",
              "\n",
              "    .colab-df-convert {\n",
              "      background-color: #E8F0FE;\n",
              "      border: none;\n",
              "      border-radius: 50%;\n",
              "      cursor: pointer;\n",
              "      display: none;\n",
              "      fill: #1967D2;\n",
              "      height: 32px;\n",
              "      padding: 0 0 0 0;\n",
              "      width: 32px;\n",
              "    }\n",
              "\n",
              "    .colab-df-convert:hover {\n",
              "      background-color: #E2EBFA;\n",
              "      box-shadow: 0px 1px 2px rgba(60, 64, 67, 0.3), 0px 1px 3px 1px rgba(60, 64, 67, 0.15);\n",
              "      fill: #174EA6;\n",
              "    }\n",
              "\n",
              "    .colab-df-buttons div {\n",
              "      margin-bottom: 4px;\n",
              "    }\n",
              "\n",
              "    [theme=dark] .colab-df-convert {\n",
              "      background-color: #3B4455;\n",
              "      fill: #D2E3FC;\n",
              "    }\n",
              "\n",
              "    [theme=dark] .colab-df-convert:hover {\n",
              "      background-color: #434B5C;\n",
              "      box-shadow: 0px 1px 3px 1px rgba(0, 0, 0, 0.15);\n",
              "      filter: drop-shadow(0px 1px 2px rgba(0, 0, 0, 0.3));\n",
              "      fill: #FFFFFF;\n",
              "    }\n",
              "  </style>\n",
              "\n",
              "    <script>\n",
              "      const buttonEl =\n",
              "        document.querySelector('#df-4e5a7595-f2b3-46cf-9926-8b984717473c button.colab-df-convert');\n",
              "      buttonEl.style.display =\n",
              "        google.colab.kernel.accessAllowed ? 'block' : 'none';\n",
              "\n",
              "      async function convertToInteractive(key) {\n",
              "        const element = document.querySelector('#df-4e5a7595-f2b3-46cf-9926-8b984717473c');\n",
              "        const dataTable =\n",
              "          await google.colab.kernel.invokeFunction('convertToInteractive',\n",
              "                                                    [key], {});\n",
              "        if (!dataTable) return;\n",
              "\n",
              "        const docLinkHtml = 'Like what you see? Visit the ' +\n",
              "          '<a target=\"_blank\" href=https://colab.research.google.com/notebooks/data_table.ipynb>data table notebook</a>'\n",
              "          + ' to learn more about interactive tables.';\n",
              "        element.innerHTML = '';\n",
              "        dataTable['output_type'] = 'display_data';\n",
              "        await google.colab.output.renderOutput(dataTable, element);\n",
              "        const docLink = document.createElement('div');\n",
              "        docLink.innerHTML = docLinkHtml;\n",
              "        element.appendChild(docLink);\n",
              "      }\n",
              "    </script>\n",
              "  </div>\n",
              "\n",
              "\n",
              "<div id=\"df-d7474a7a-53e0-44b0-a33f-4211ceffa003\">\n",
              "  <button class=\"colab-df-quickchart\" onclick=\"quickchart('df-d7474a7a-53e0-44b0-a33f-4211ceffa003')\"\n",
              "            title=\"Suggest charts\"\n",
              "            style=\"display:none;\">\n",
              "\n",
              "<svg xmlns=\"http://www.w3.org/2000/svg\" height=\"24px\"viewBox=\"0 0 24 24\"\n",
              "     width=\"24px\">\n",
              "    <g>\n",
              "        <path d=\"M19 3H5c-1.1 0-2 .9-2 2v14c0 1.1.9 2 2 2h14c1.1 0 2-.9 2-2V5c0-1.1-.9-2-2-2zM9 17H7v-7h2v7zm4 0h-2V7h2v10zm4 0h-2v-4h2v4z\"/>\n",
              "    </g>\n",
              "</svg>\n",
              "  </button>\n",
              "\n",
              "<style>\n",
              "  .colab-df-quickchart {\n",
              "      --bg-color: #E8F0FE;\n",
              "      --fill-color: #1967D2;\n",
              "      --hover-bg-color: #E2EBFA;\n",
              "      --hover-fill-color: #174EA6;\n",
              "      --disabled-fill-color: #AAA;\n",
              "      --disabled-bg-color: #DDD;\n",
              "  }\n",
              "\n",
              "  [theme=dark] .colab-df-quickchart {\n",
              "      --bg-color: #3B4455;\n",
              "      --fill-color: #D2E3FC;\n",
              "      --hover-bg-color: #434B5C;\n",
              "      --hover-fill-color: #FFFFFF;\n",
              "      --disabled-bg-color: #3B4455;\n",
              "      --disabled-fill-color: #666;\n",
              "  }\n",
              "\n",
              "  .colab-df-quickchart {\n",
              "    background-color: var(--bg-color);\n",
              "    border: none;\n",
              "    border-radius: 50%;\n",
              "    cursor: pointer;\n",
              "    display: none;\n",
              "    fill: var(--fill-color);\n",
              "    height: 32px;\n",
              "    padding: 0;\n",
              "    width: 32px;\n",
              "  }\n",
              "\n",
              "  .colab-df-quickchart:hover {\n",
              "    background-color: var(--hover-bg-color);\n",
              "    box-shadow: 0 1px 2px rgba(60, 64, 67, 0.3), 0 1px 3px 1px rgba(60, 64, 67, 0.15);\n",
              "    fill: var(--button-hover-fill-color);\n",
              "  }\n",
              "\n",
              "  .colab-df-quickchart-complete:disabled,\n",
              "  .colab-df-quickchart-complete:disabled:hover {\n",
              "    background-color: var(--disabled-bg-color);\n",
              "    fill: var(--disabled-fill-color);\n",
              "    box-shadow: none;\n",
              "  }\n",
              "\n",
              "  .colab-df-spinner {\n",
              "    border: 2px solid var(--fill-color);\n",
              "    border-color: transparent;\n",
              "    border-bottom-color: var(--fill-color);\n",
              "    animation:\n",
              "      spin 1s steps(1) infinite;\n",
              "  }\n",
              "\n",
              "  @keyframes spin {\n",
              "    0% {\n",
              "      border-color: transparent;\n",
              "      border-bottom-color: var(--fill-color);\n",
              "      border-left-color: var(--fill-color);\n",
              "    }\n",
              "    20% {\n",
              "      border-color: transparent;\n",
              "      border-left-color: var(--fill-color);\n",
              "      border-top-color: var(--fill-color);\n",
              "    }\n",
              "    30% {\n",
              "      border-color: transparent;\n",
              "      border-left-color: var(--fill-color);\n",
              "      border-top-color: var(--fill-color);\n",
              "      border-right-color: var(--fill-color);\n",
              "    }\n",
              "    40% {\n",
              "      border-color: transparent;\n",
              "      border-right-color: var(--fill-color);\n",
              "      border-top-color: var(--fill-color);\n",
              "    }\n",
              "    60% {\n",
              "      border-color: transparent;\n",
              "      border-right-color: var(--fill-color);\n",
              "    }\n",
              "    80% {\n",
              "      border-color: transparent;\n",
              "      border-right-color: var(--fill-color);\n",
              "      border-bottom-color: var(--fill-color);\n",
              "    }\n",
              "    90% {\n",
              "      border-color: transparent;\n",
              "      border-bottom-color: var(--fill-color);\n",
              "    }\n",
              "  }\n",
              "</style>\n",
              "\n",
              "  <script>\n",
              "    async function quickchart(key) {\n",
              "      const quickchartButtonEl =\n",
              "        document.querySelector('#' + key + ' button');\n",
              "      quickchartButtonEl.disabled = true;  // To prevent multiple clicks.\n",
              "      quickchartButtonEl.classList.add('colab-df-spinner');\n",
              "      try {\n",
              "        const charts = await google.colab.kernel.invokeFunction(\n",
              "            'suggestCharts', [key], {});\n",
              "      } catch (error) {\n",
              "        console.error('Error during call to suggestCharts:', error);\n",
              "      }\n",
              "      quickchartButtonEl.classList.remove('colab-df-spinner');\n",
              "      quickchartButtonEl.classList.add('colab-df-quickchart-complete');\n",
              "    }\n",
              "    (() => {\n",
              "      let quickchartButtonEl =\n",
              "        document.querySelector('#df-d7474a7a-53e0-44b0-a33f-4211ceffa003 button');\n",
              "      quickchartButtonEl.style.display =\n",
              "        google.colab.kernel.accessAllowed ? 'block' : 'none';\n",
              "    })();\n",
              "  </script>\n",
              "</div>\n",
              "\n",
              "    </div>\n",
              "  </div>\n"
            ],
            "application/vnd.google.colaboratory.intrinsic+json": {
              "type": "dataframe",
              "variable_name": "df_centroid",
              "summary": "{\n  \"name\": \"df_centroid\",\n  \"rows\": 5,\n  \"fields\": [\n    {\n      \"column\": \"centroid\",\n      \"properties\": {\n        \"dtype\": \"string\",\n        \"num_unique_values\": 5,\n        \"samples\": [\n          \"cluster 2\",\n          \"cluster 5\",\n          \"cluster 3\"\n        ],\n        \"semantic_type\": \"\",\n        \"description\": \"\"\n      }\n    },\n    {\n      \"column\": \"average_spend\",\n      \"properties\": {\n        \"dtype\": \"number\",\n        \"std\": 246.05721422059543,\n        \"min\": 45.4,\n        \"max\": 618.41,\n        \"num_unique_values\": 5,\n        \"samples\": [\n          618.41,\n          46.66,\n          59.01\n        ],\n        \"semantic_type\": \"\",\n        \"description\": \"\"\n      }\n    },\n    {\n      \"column\": \"count_orders\",\n      \"properties\": {\n        \"dtype\": \"number\",\n        \"std\": 1.0882233226686515,\n        \"min\": 1.22,\n        \"max\": 3.69,\n        \"num_unique_values\": 5,\n        \"samples\": [\n          1.22,\n          1.29,\n          3.69\n        ],\n        \"semantic_type\": \"\",\n        \"description\": \"\"\n      }\n    },\n    {\n      \"column\": \"days_since_last_order\",\n      \"properties\": {\n        \"dtype\": \"number\",\n        \"std\": 15.453995276303138,\n        \"min\": 955.16,\n        \"max\": 991.79,\n        \"num_unique_values\": 5,\n        \"samples\": [\n          958.85,\n          991.79,\n          955.16\n        ],\n        \"semantic_type\": \"\",\n        \"description\": \"\"\n      }\n    }\n  ]\n}"
            }
          },
          "metadata": {},
          "execution_count": 12
        }
      ]
    },
    {
      "cell_type": "code",
      "source": [
        "df_query = client.query(query).to_dataframe()\n",
        "df_query.to_string(header=False, index=False)\n",
        "\n",
        "cluster_info = []\n",
        "for i, row in df_query.iterrows():\n",
        " cluster_info.append(\"{0}, average spend ${2}, count of orders per person {1}, days since last order {3}\"\n",
        "  .format(row[\"centroid\"], row[\"count_orders\"], row[\"average_spend\"], row[\"days_since_last_order\"]) )\n",
        "\n",
        "cluster_info = (str.join(\"\\n\", cluster_info))\n",
        "print(cluster_info)"
      ],
      "metadata": {
        "colab": {
          "base_uri": "https://localhost:8080/"
        },
        "id": "HhiC7J57IMIx",
        "outputId": "00476d73-3e88-457b-812f-a271e8beb057"
      },
      "execution_count": null,
      "outputs": [
        {
          "output_type": "stream",
          "name": "stdout",
          "text": [
            "cluster 1, average spend $45.4, count of orders per person 1.28, days since last order 966.27\n",
            "cluster 2, average spend $618.41, count of orders per person 1.22, days since last order 958.85\n",
            "cluster 3, average spend $59.01, count of orders per person 3.69, days since last order 955.16\n",
            "cluster 4, average spend $184.46, count of orders per person 1.24, days since last order 981.14\n",
            "cluster 5, average spend $46.66, count of orders per person 1.29, days since last order 991.79\n"
          ]
        }
      ]
    },
    {
      "cell_type": "markdown",
      "source": [
        "### **Generar campaña de marketing con Gemini**"
      ],
      "metadata": {
        "id": "QN21aZt0If6M"
      }
    },
    {
      "cell_type": "code",
      "source": [
        "model = GenerativeModel(\"gemini-2.0-flash\")\n",
        "\n",
        "prompt = f\"\"\"\n",
        "You're a creative brand strategist, given the following clusters, come up with \\\n",
        "creative brand persona, a catchy title, and next marketing action, \\\n",
        "explained step by step. Identify the cluster number, the title of the person, a persona for them and the next marketing step.\n",
        "\n",
        "Clusters:\n",
        "{cluster_info}\n",
        "\n",
        "For each Cluster:\n",
        "* Title:\n",
        "* Persona:\n",
        "* Next marketing step:\n",
        "\"\"\"\n",
        "\n",
        "responses = model.generate_content(\n",
        "   prompt,\n",
        "   generation_config={\n",
        "      \"temperature\": 0.1,\n",
        "      \"top_p\": 1.0,\n",
        "      \"top_k\": 40,\n",
        "   }\n",
        ")\n",
        "\n",
        "print(responses.text)"
      ],
      "metadata": {
        "colab": {
          "base_uri": "https://localhost:8080/"
        },
        "id": "nFqLpvWfIjRm",
        "outputId": "2259375f-af2a-4a3f-a7ba-36d3c16e8ca9"
      },
      "execution_count": null,
      "outputs": [
        {
          "output_type": "stream",
          "name": "stdout",
          "text": [
            "Okay, here's a breakdown of each cluster, a creative title for the persona, a detailed persona description, and a strategic next marketing action, designed to re-engage and/or nurture each group:\n",
            "\n",
            "**Cluster 1: The \"Lost Souls\"**\n",
            "\n",
            "*   **Title:** The \"Budget Explorer\"\n",
            "*   **Persona:**\n",
            "    *   **Name:** Emily Carter\n",
            "    *   **Demographics:** 28, Female, Entry-level professional, lives in a city apartment.\n",
            "    *   **Psychographics:** Value-conscious, enjoys discovering new brands but hesitant to commit to expensive purchases. Interested in sustainable and ethically sourced products. Easily distracted by other brands and offers.\n",
            "    *   **Behavior:** Made a small purchase a long time ago, likely driven by a specific need or promotion. Hasn't returned due to lack of compelling reasons or forgetting about the brand.\n",
            "    *   **Pain Points:** Overwhelmed by choices, hesitant to spend money on unknown brands, needs reassurance about quality and value.\n",
            "*   **Next Marketing Step:**\n",
            "    1.  **Re-Engagement Campaign:** Launch a targeted email campaign with the subject line \"We Miss You, Emily! Discover [Brand Name] Again.\"\n",
            "    2.  **Value Proposition Focus:** Highlight the brand's unique selling points (e.g., sustainability, ethical sourcing, quality ingredients) in a concise and visually appealing way.\n",
            "    3.  **Incentive Offer:** Include a small discount code (e.g., 10% off) or free shipping on their next order to incentivize a purchase.\n",
            "    4.  **Social Proof:** Showcase positive customer reviews and testimonials to build trust and credibility.\n",
            "    5.  **Product Recommendation:** Suggest a popular or trending product that aligns with their potential interests based on their initial purchase (if data is available).\n",
            "    6.  **Track and Optimize:** Monitor open rates, click-through rates, and conversion rates to refine the campaign and personalize future communications.\n",
            "\n",
            "**Cluster 2: The \"High-Value Ghost\"**\n",
            "\n",
            "*   **Title:** The \"Premium Patron\"\n",
            "*   **Persona:**\n",
            "    *   **Name:** David Lee\n",
            "    *   **Demographics:** 45, Male, Executive, affluent, busy professional.\n",
            "    *   **Psychographics:** Values quality, convenience, and exclusivity. Willing to spend more for premium products and exceptional service. May have forgotten about the brand due to a change in lifestyle or priorities.\n",
            "    *   **Behavior:** Made a significant purchase in the past, indicating a willingness to invest in the brand. Hasn't returned, possibly due to lack of personalized attention or perceived lack of ongoing value.\n",
            "    *   **Pain Points:** Time-constrained, expects seamless experiences, demands high-quality products and services, needs to feel valued and appreciated.\n",
            "*   **Next Marketing Step:**\n",
            "    1.  **Personalized Outreach:** Send a personalized email or even a handwritten note (depending on budget) with the subject line \"A Special Invitation for David.\"\n",
            "    2.  **Exclusive Offer:** Offer a VIP discount, early access to new products, or a complimentary upgrade on their next purchase.\n",
            "    3.  **Relationship Building:** Invite them to join an exclusive loyalty program or community to foster a sense of belonging and appreciation.\n",
            "    4.  **Concierge Service:** Highlight the brand's commitment to exceptional customer service and offer a dedicated point of contact for any questions or needs.\n",
            "    5.  **Product Showcase:** Introduce new products or services that align with their previous purchase history and demonstrate the brand's continued innovation.\n",
            "    6.  **Feedback Request:** Ask for their feedback on their past experience and how the brand can better serve their needs in the future.\n",
            "\n",
            "**Cluster 3: The \"Loyal Bargain Hunter\"**\n",
            "\n",
            "*   **Title:** The \"Savvy Shopper\"\n",
            "*   **Persona:**\n",
            "    *   **Name:** Sarah Chen\n",
            "    *   **Demographics:** 35, Female, Teacher, family-oriented, budget-conscious.\n",
            "    *   **Psychographics:** Enjoys finding good deals and maximizing value. Loyal to brands that consistently offer discounts and promotions. Actively seeks out coupons and sales.\n",
            "    *   **Behavior:** Made multiple purchases in the past, indicating a strong affinity for the brand. Hasn't returned recently, possibly due to a lack of compelling offers or a change in budget priorities.\n",
            "    *   **Pain Points:** Limited budget, needs to justify every purchase, seeks reassurance about value and quality, easily swayed by competitor promotions.\n",
            "*   **Next Marketing Step:**\n",
            "    1.  **Targeted Promotion:** Launch a limited-time promotion specifically designed for loyal customers with the subject line \"Sarah, Your Exclusive [Brand Name] Offer is Here!\"\n",
            "    2.  **Bundle Deals:** Offer attractive bundle deals or multi-buy discounts to encourage larger purchases and increase average order value.\n",
            "    3.  **Loyalty Program:** Promote the benefits of the brand's loyalty program, highlighting exclusive discounts, early access to sales, and other perks.\n",
            "    4.  **User-Generated Content:** Showcase user-generated content (e.g., photos, reviews) from other satisfied customers to build trust and social proof.\n",
            "    5.  **Seasonal Promotions:** Align promotions with relevant holidays or seasonal events to capitalize on increased consumer spending.\n",
            "    6.  **Referral Program:** Encourage them to refer friends and family to the brand in exchange for rewards or discounts.\n",
            "\n",
            "**Cluster 4: The \"One-Time Wonder\"**\n",
            "\n",
            "*   **Title:** The \"Curious Customer\"\n",
            "*   **Persona:**\n",
            "    *   **Name:** Michael Rodriguez\n",
            "    *   **Demographics:** 50, Male, Manager, suburban resident, moderately affluent.\n",
            "    *   **Psychographics:** Open to trying new brands but not easily swayed by marketing hype. Values quality and reliability. May have made a purchase out of curiosity or a specific need.\n",
            "    *   **Behavior:** Made a single purchase in the past, possibly driven by a recommendation or a specific promotion. Hasn't returned, possibly due to a lack of follow-up or a perceived lack of relevance.\n",
            "    *   **Pain Points:** Skeptical of marketing claims, needs to see tangible value, appreciates clear and concise communication, easily forgets about brands that don't stay top-of-mind.\n",
            "*   **Next Marketing Step:**\n",
            "    1.  **Educational Content:** Send an email with the subject line \"Michael, Discover the Full Potential of [Brand Name].\"\n",
            "    2.  **Product Tutorials:** Share helpful tutorials, guides, or articles that demonstrate the benefits and features of the products they purchased or similar products.\n",
            "    3.  **Behind-the-Scenes:** Offer a glimpse behind the scenes of the brand, showcasing the craftsmanship, quality control, or ethical practices that set it apart.\n",
            "    4.  **Customer Stories:** Share compelling customer stories or case studies that highlight the positive impact of the brand's products or services.\n",
            "    5.  **Limited-Time Offer:** Include a small discount or free gift with purchase to incentivize a second purchase and demonstrate the brand's commitment to customer satisfaction.\n",
            "    6.  **Feedback Request:** Ask for their feedback on their initial purchase and how the brand can improve their experience in the future.\n",
            "\n",
            "**Cluster 5: The \"Forgotten Friend\"**\n",
            "\n",
            "*   **Title:** The \"Casual Browser\"\n",
            "*   **Persona:**\n",
            "    *   **Name:** Jessica Brown\n",
            "    *   **Demographics:** 25, Female, Student, urban dweller, budget-conscious.\n",
            "    *   **Psychographics:** Enjoys browsing online but often gets distracted by other brands and offers. Makes impulse purchases based on trends and social media influence.\n",
            "    *   **Behavior:** Made a small purchase a long time ago, likely driven by a specific trend or promotion. Hasn't returned due to a lack of engagement or a change in interests.\n",
            "    *   **Pain Points:** Easily distracted, overwhelmed by choices, needs to be entertained and engaged, seeks validation from peers and social media.\n",
            "*   **Next Marketing Step:**\n",
            "    1.  **Social Media Engagement:** Launch a targeted social media campaign with visually appealing content and engaging contests or giveaways.\n",
            "    2.  **Influencer Marketing:** Partner with relevant influencers to promote the brand's products or services to their target audience.\n",
            "    3.  **Interactive Content:** Create interactive content such as quizzes, polls, or surveys to capture their attention and gather valuable data.\n",
            "    4.  **Trend-Driven Promotions:** Offer promotions that align with current trends or social media challenges to capitalize on their interest.\n",
            "    5.  **User-Generated Content:** Encourage them to share their experiences with the brand on social media using a specific hashtag.\n",
            "    6.  **Gamification:** Incorporate gamification elements such as points, badges, or leaderboards to incentivize engagement and loyalty.\n",
            "\n",
            "By implementing these targeted marketing actions, you can effectively re-engage these customer segments, increase customer lifetime value, and drive sustainable growth for your brand. Remember to track and analyze the results of each campaign to optimize your marketing efforts and personalize your communications for maximum impact.\n",
            "\n"
          ]
        }
      ]
    }
  ]
}